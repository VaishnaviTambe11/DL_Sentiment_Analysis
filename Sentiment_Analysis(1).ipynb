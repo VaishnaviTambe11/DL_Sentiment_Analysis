{
 "cells": [
  {
   "cell_type": "markdown",
   "id": "ba576ba8",
   "metadata": {},
   "source": [
    "# Import Libraries"
   ]
  },
  {
   "cell_type": "code",
   "execution_count": 23,
   "id": "353c0f89",
   "metadata": {},
   "outputs": [],
   "source": [
    "import pandas as pd\n",
    "\n",
    "import re\n",
    "\n",
    "from sklearn.feature_extraction.text import TfidfVectorizer\n",
    "\n",
    "from sklearn.model_selection import train_test_split\n",
    "\n",
    "import keras_tuner as kt\n",
    "\n",
    "from keras.models import Sequential\n",
    "\n",
    "from keras.layers import Dense,Dropout,BatchNormalization\n",
    "\n",
    "import matplotlib.pyplot as plt\n",
    "\n",
    "from keras.callbacks import EarlyStopping\n",
    "\n",
    "from sklearn.metrics import accuracy_score,classification_report,confusion_matrix"
   ]
  },
  {
   "cell_type": "markdown",
   "id": "53dcd224",
   "metadata": {},
   "source": [
    "# Data Gathering"
   ]
  },
  {
   "cell_type": "code",
   "execution_count": 2,
   "id": "b414b530",
   "metadata": {},
   "outputs": [],
   "source": [
    "import os\n",
    "os.chdir(\"D:Dataset/\")"
   ]
  },
  {
   "cell_type": "code",
   "execution_count": 3,
   "id": "930fa933",
   "metadata": {},
   "outputs": [
    {
     "data": {
      "text/html": [
       "<div>\n",
       "<style scoped>\n",
       "    .dataframe tbody tr th:only-of-type {\n",
       "        vertical-align: middle;\n",
       "    }\n",
       "\n",
       "    .dataframe tbody tr th {\n",
       "        vertical-align: top;\n",
       "    }\n",
       "\n",
       "    .dataframe thead th {\n",
       "        text-align: right;\n",
       "    }\n",
       "</style>\n",
       "<table border=\"1\" class=\"dataframe\">\n",
       "  <thead>\n",
       "    <tr style=\"text-align: right;\">\n",
       "      <th></th>\n",
       "      <th>Headline</th>\n",
       "      <th>Label</th>\n",
       "    </tr>\n",
       "  </thead>\n",
       "  <tbody>\n",
       "    <tr>\n",
       "      <th>0</th>\n",
       "      <td>Four ways Bob Corker skewered Donald Trump</td>\n",
       "      <td>1</td>\n",
       "    </tr>\n",
       "    <tr>\n",
       "      <th>1</th>\n",
       "      <td>Linklater's war veteran comedy speaks to moder...</td>\n",
       "      <td>1</td>\n",
       "    </tr>\n",
       "    <tr>\n",
       "      <th>2</th>\n",
       "      <td>Trump’s Fight With Corker Jeopardizes His Legi...</td>\n",
       "      <td>1</td>\n",
       "    </tr>\n",
       "    <tr>\n",
       "      <th>3</th>\n",
       "      <td>Egypt's Cheiron wins tie-up with Pemex for Mex...</td>\n",
       "      <td>1</td>\n",
       "    </tr>\n",
       "    <tr>\n",
       "      <th>4</th>\n",
       "      <td>Jason Aldean opens 'SNL' with Vegas tribute</td>\n",
       "      <td>1</td>\n",
       "    </tr>\n",
       "    <tr>\n",
       "      <th>...</th>\n",
       "      <td>...</td>\n",
       "      <td>...</td>\n",
       "    </tr>\n",
       "    <tr>\n",
       "      <th>4004</th>\n",
       "      <td>Trends to Watch</td>\n",
       "      <td>0</td>\n",
       "    </tr>\n",
       "    <tr>\n",
       "      <th>4005</th>\n",
       "      <td>Trump Jr. Is Soon To Give A 30-Minute Speech F...</td>\n",
       "      <td>0</td>\n",
       "    </tr>\n",
       "    <tr>\n",
       "      <th>4006</th>\n",
       "      <td>Ron Paul on Trump, Anarchism &amp; the AltRight</td>\n",
       "      <td>0</td>\n",
       "    </tr>\n",
       "    <tr>\n",
       "      <th>4007</th>\n",
       "      <td>China to accept overseas trial data in bid to ...</td>\n",
       "      <td>1</td>\n",
       "    </tr>\n",
       "    <tr>\n",
       "      <th>4008</th>\n",
       "      <td>Vice President Mike Pence Leaves NFL Game Beca...</td>\n",
       "      <td>0</td>\n",
       "    </tr>\n",
       "  </tbody>\n",
       "</table>\n",
       "<p>4009 rows × 2 columns</p>\n",
       "</div>"
      ],
      "text/plain": [
       "                                               Headline  Label\n",
       "0            Four ways Bob Corker skewered Donald Trump      1\n",
       "1     Linklater's war veteran comedy speaks to moder...      1\n",
       "2     Trump’s Fight With Corker Jeopardizes His Legi...      1\n",
       "3     Egypt's Cheiron wins tie-up with Pemex for Mex...      1\n",
       "4           Jason Aldean opens 'SNL' with Vegas tribute      1\n",
       "...                                                 ...    ...\n",
       "4004                                    Trends to Watch      0\n",
       "4005  Trump Jr. Is Soon To Give A 30-Minute Speech F...      0\n",
       "4006        Ron Paul on Trump, Anarchism & the AltRight      0\n",
       "4007  China to accept overseas trial data in bid to ...      1\n",
       "4008  Vice President Mike Pence Leaves NFL Game Beca...      0\n",
       "\n",
       "[4009 rows x 2 columns]"
      ]
     },
     "execution_count": 3,
     "metadata": {},
     "output_type": "execute_result"
    }
   ],
   "source": [
    "df=pd.read_csv('news.csv')\n",
    "df"
   ]
  },
  {
   "cell_type": "markdown",
   "id": "98592522",
   "metadata": {},
   "source": [
    "# EDA"
   ]
  },
  {
   "cell_type": "code",
   "execution_count": 4,
   "id": "6b5cb889",
   "metadata": {},
   "outputs": [
    {
     "data": {
      "text/html": [
       "<div>\n",
       "<style scoped>\n",
       "    .dataframe tbody tr th:only-of-type {\n",
       "        vertical-align: middle;\n",
       "    }\n",
       "\n",
       "    .dataframe tbody tr th {\n",
       "        vertical-align: top;\n",
       "    }\n",
       "\n",
       "    .dataframe thead th {\n",
       "        text-align: right;\n",
       "    }\n",
       "</style>\n",
       "<table border=\"1\" class=\"dataframe\">\n",
       "  <thead>\n",
       "    <tr style=\"text-align: right;\">\n",
       "      <th></th>\n",
       "      <th>Headline</th>\n",
       "      <th>Label</th>\n",
       "    </tr>\n",
       "  </thead>\n",
       "  <tbody>\n",
       "    <tr>\n",
       "      <th>0</th>\n",
       "      <td>Four ways Bob Corker skewered Donald Trump</td>\n",
       "      <td>1</td>\n",
       "    </tr>\n",
       "    <tr>\n",
       "      <th>1</th>\n",
       "      <td>Linklater's war veteran comedy speaks to moder...</td>\n",
       "      <td>1</td>\n",
       "    </tr>\n",
       "    <tr>\n",
       "      <th>2</th>\n",
       "      <td>Trump’s Fight With Corker Jeopardizes His Legi...</td>\n",
       "      <td>1</td>\n",
       "    </tr>\n",
       "    <tr>\n",
       "      <th>3</th>\n",
       "      <td>Egypt's Cheiron wins tie-up with Pemex for Mex...</td>\n",
       "      <td>1</td>\n",
       "    </tr>\n",
       "    <tr>\n",
       "      <th>4</th>\n",
       "      <td>Jason Aldean opens 'SNL' with Vegas tribute</td>\n",
       "      <td>1</td>\n",
       "    </tr>\n",
       "    <tr>\n",
       "      <th>5</th>\n",
       "      <td>JetNation FanDuel League; Week 4</td>\n",
       "      <td>0</td>\n",
       "    </tr>\n",
       "    <tr>\n",
       "      <th>6</th>\n",
       "      <td>Kansas Tried a Tax Plan Similar to Trump’s. It...</td>\n",
       "      <td>1</td>\n",
       "    </tr>\n",
       "    <tr>\n",
       "      <th>7</th>\n",
       "      <td>India RBI chief: growth important, but not at ...</td>\n",
       "      <td>1</td>\n",
       "    </tr>\n",
       "    <tr>\n",
       "      <th>8</th>\n",
       "      <td>EPA chief to sign rule on Clean Power Plan exi...</td>\n",
       "      <td>1</td>\n",
       "    </tr>\n",
       "    <tr>\n",
       "      <th>9</th>\n",
       "      <td>Talks on sale of Air Berlin planes to easyJet ...</td>\n",
       "      <td>1</td>\n",
       "    </tr>\n",
       "  </tbody>\n",
       "</table>\n",
       "</div>"
      ],
      "text/plain": [
       "                                            Headline  Label\n",
       "0         Four ways Bob Corker skewered Donald Trump      1\n",
       "1  Linklater's war veteran comedy speaks to moder...      1\n",
       "2  Trump’s Fight With Corker Jeopardizes His Legi...      1\n",
       "3  Egypt's Cheiron wins tie-up with Pemex for Mex...      1\n",
       "4        Jason Aldean opens 'SNL' with Vegas tribute      1\n",
       "5                   JetNation FanDuel League; Week 4      0\n",
       "6  Kansas Tried a Tax Plan Similar to Trump’s. It...      1\n",
       "7  India RBI chief: growth important, but not at ...      1\n",
       "8  EPA chief to sign rule on Clean Power Plan exi...      1\n",
       "9  Talks on sale of Air Berlin planes to easyJet ...      1"
      ]
     },
     "execution_count": 4,
     "metadata": {},
     "output_type": "execute_result"
    }
   ],
   "source": [
    "df.head(10)"
   ]
  },
  {
   "cell_type": "code",
   "execution_count": 5,
   "id": "7cd5958f",
   "metadata": {},
   "outputs": [
    {
     "data": {
      "text/html": [
       "<div>\n",
       "<style scoped>\n",
       "    .dataframe tbody tr th:only-of-type {\n",
       "        vertical-align: middle;\n",
       "    }\n",
       "\n",
       "    .dataframe tbody tr th {\n",
       "        vertical-align: top;\n",
       "    }\n",
       "\n",
       "    .dataframe thead th {\n",
       "        text-align: right;\n",
       "    }\n",
       "</style>\n",
       "<table border=\"1\" class=\"dataframe\">\n",
       "  <thead>\n",
       "    <tr style=\"text-align: right;\">\n",
       "      <th></th>\n",
       "      <th>Headline</th>\n",
       "      <th>Label</th>\n",
       "    </tr>\n",
       "  </thead>\n",
       "  <tbody>\n",
       "    <tr>\n",
       "      <th>4004</th>\n",
       "      <td>Trends to Watch</td>\n",
       "      <td>0</td>\n",
       "    </tr>\n",
       "    <tr>\n",
       "      <th>4005</th>\n",
       "      <td>Trump Jr. Is Soon To Give A 30-Minute Speech F...</td>\n",
       "      <td>0</td>\n",
       "    </tr>\n",
       "    <tr>\n",
       "      <th>4006</th>\n",
       "      <td>Ron Paul on Trump, Anarchism &amp; the AltRight</td>\n",
       "      <td>0</td>\n",
       "    </tr>\n",
       "    <tr>\n",
       "      <th>4007</th>\n",
       "      <td>China to accept overseas trial data in bid to ...</td>\n",
       "      <td>1</td>\n",
       "    </tr>\n",
       "    <tr>\n",
       "      <th>4008</th>\n",
       "      <td>Vice President Mike Pence Leaves NFL Game Beca...</td>\n",
       "      <td>0</td>\n",
       "    </tr>\n",
       "  </tbody>\n",
       "</table>\n",
       "</div>"
      ],
      "text/plain": [
       "                                               Headline  Label\n",
       "4004                                    Trends to Watch      0\n",
       "4005  Trump Jr. Is Soon To Give A 30-Minute Speech F...      0\n",
       "4006        Ron Paul on Trump, Anarchism & the AltRight      0\n",
       "4007  China to accept overseas trial data in bid to ...      1\n",
       "4008  Vice President Mike Pence Leaves NFL Game Beca...      0"
      ]
     },
     "execution_count": 5,
     "metadata": {},
     "output_type": "execute_result"
    }
   ],
   "source": [
    "df.tail()"
   ]
  },
  {
   "cell_type": "code",
   "execution_count": 6,
   "id": "4cb656a7",
   "metadata": {},
   "outputs": [
    {
     "name": "stdout",
     "output_type": "stream",
     "text": [
      "<class 'pandas.core.frame.DataFrame'>\n",
      "RangeIndex: 4009 entries, 0 to 4008\n",
      "Data columns (total 2 columns):\n",
      " #   Column    Non-Null Count  Dtype \n",
      "---  ------    --------------  ----- \n",
      " 0   Headline  4009 non-null   object\n",
      " 1   Label     4009 non-null   int64 \n",
      "dtypes: int64(1), object(1)\n",
      "memory usage: 62.8+ KB\n"
     ]
    }
   ],
   "source": [
    "df.info()"
   ]
  },
  {
   "cell_type": "code",
   "execution_count": 7,
   "id": "33acf462",
   "metadata": {},
   "outputs": [
    {
     "data": {
      "text/plain": [
       "Index(['Headline', 'Label'], dtype='object')"
      ]
     },
     "execution_count": 7,
     "metadata": {},
     "output_type": "execute_result"
    }
   ],
   "source": [
    "df.columns"
   ]
  },
  {
   "cell_type": "markdown",
   "id": "daae08bb",
   "metadata": {},
   "source": [
    "# PreProcessing"
   ]
  },
  {
   "cell_type": "code",
   "execution_count": 8,
   "id": "31d045a3",
   "metadata": {},
   "outputs": [],
   "source": [
    "pre=[]\n",
    "\n",
    "for i in df['Headline']:\n",
    "    s=i.lower()\n",
    "    s1=re.sub('[^A-Za-z0-9]',' ',s)\n",
    "    pre.append(s1)"
   ]
  },
  {
   "cell_type": "code",
   "execution_count": 9,
   "id": "b7ae5a10",
   "metadata": {},
   "outputs": [
    {
     "data": {
      "text/plain": [
       "['four ways bob corker skewered donald trump',\n",
       " 'linklater s war veteran comedy speaks to modern america  says star',\n",
       " 'trump s fight with corker jeopardizes his legislative agenda',\n",
       " 'egypt s cheiron wins tie up with pemex for mexican onshore oil field',\n",
       " 'jason aldean opens  snl  with vegas tribute',\n",
       " 'jetnation fanduel league  week 4',\n",
       " 'kansas tried a tax plan similar to trump s  it failed ',\n",
       " 'india rbi chief  growth important  but not at cost of inflation   newspaper',\n",
       " 'epa chief to sign rule on clean power plan exit on tuesday',\n",
       " 'talks on sale of air berlin planes to easyjet at risk of collapse  report']"
      ]
     },
     "execution_count": 9,
     "metadata": {},
     "output_type": "execute_result"
    }
   ],
   "source": [
    "pre[0:10]"
   ]
  },
  {
   "cell_type": "code",
   "execution_count": 10,
   "id": "62e2a6d7",
   "metadata": {},
   "outputs": [],
   "source": [
    "df['Headlines']=pre"
   ]
  },
  {
   "cell_type": "code",
   "execution_count": 11,
   "id": "b2c11e33",
   "metadata": {},
   "outputs": [
    {
     "data": {
      "text/html": [
       "<div>\n",
       "<style scoped>\n",
       "    .dataframe tbody tr th:only-of-type {\n",
       "        vertical-align: middle;\n",
       "    }\n",
       "\n",
       "    .dataframe tbody tr th {\n",
       "        vertical-align: top;\n",
       "    }\n",
       "\n",
       "    .dataframe thead th {\n",
       "        text-align: right;\n",
       "    }\n",
       "</style>\n",
       "<table border=\"1\" class=\"dataframe\">\n",
       "  <thead>\n",
       "    <tr style=\"text-align: right;\">\n",
       "      <th></th>\n",
       "      <th>Headline</th>\n",
       "      <th>Label</th>\n",
       "      <th>Headlines</th>\n",
       "    </tr>\n",
       "  </thead>\n",
       "  <tbody>\n",
       "    <tr>\n",
       "      <th>0</th>\n",
       "      <td>Four ways Bob Corker skewered Donald Trump</td>\n",
       "      <td>1</td>\n",
       "      <td>four ways bob corker skewered donald trump</td>\n",
       "    </tr>\n",
       "    <tr>\n",
       "      <th>1</th>\n",
       "      <td>Linklater's war veteran comedy speaks to moder...</td>\n",
       "      <td>1</td>\n",
       "      <td>linklater s war veteran comedy speaks to moder...</td>\n",
       "    </tr>\n",
       "    <tr>\n",
       "      <th>2</th>\n",
       "      <td>Trump’s Fight With Corker Jeopardizes His Legi...</td>\n",
       "      <td>1</td>\n",
       "      <td>trump s fight with corker jeopardizes his legi...</td>\n",
       "    </tr>\n",
       "    <tr>\n",
       "      <th>3</th>\n",
       "      <td>Egypt's Cheiron wins tie-up with Pemex for Mex...</td>\n",
       "      <td>1</td>\n",
       "      <td>egypt s cheiron wins tie up with pemex for mex...</td>\n",
       "    </tr>\n",
       "    <tr>\n",
       "      <th>4</th>\n",
       "      <td>Jason Aldean opens 'SNL' with Vegas tribute</td>\n",
       "      <td>1</td>\n",
       "      <td>jason aldean opens  snl  with vegas tribute</td>\n",
       "    </tr>\n",
       "    <tr>\n",
       "      <th>...</th>\n",
       "      <td>...</td>\n",
       "      <td>...</td>\n",
       "      <td>...</td>\n",
       "    </tr>\n",
       "    <tr>\n",
       "      <th>4004</th>\n",
       "      <td>Trends to Watch</td>\n",
       "      <td>0</td>\n",
       "      <td>trends to watch</td>\n",
       "    </tr>\n",
       "    <tr>\n",
       "      <th>4005</th>\n",
       "      <td>Trump Jr. Is Soon To Give A 30-Minute Speech F...</td>\n",
       "      <td>0</td>\n",
       "      <td>trump jr  is soon to give a 30 minute speech f...</td>\n",
       "    </tr>\n",
       "    <tr>\n",
       "      <th>4006</th>\n",
       "      <td>Ron Paul on Trump, Anarchism &amp; the AltRight</td>\n",
       "      <td>0</td>\n",
       "      <td>ron paul on trump  anarchism   the altright</td>\n",
       "    </tr>\n",
       "    <tr>\n",
       "      <th>4007</th>\n",
       "      <td>China to accept overseas trial data in bid to ...</td>\n",
       "      <td>1</td>\n",
       "      <td>china to accept overseas trial data in bid to ...</td>\n",
       "    </tr>\n",
       "    <tr>\n",
       "      <th>4008</th>\n",
       "      <td>Vice President Mike Pence Leaves NFL Game Beca...</td>\n",
       "      <td>0</td>\n",
       "      <td>vice president mike pence leaves nfl game beca...</td>\n",
       "    </tr>\n",
       "  </tbody>\n",
       "</table>\n",
       "<p>4009 rows × 3 columns</p>\n",
       "</div>"
      ],
      "text/plain": [
       "                                               Headline  Label  \\\n",
       "0            Four ways Bob Corker skewered Donald Trump      1   \n",
       "1     Linklater's war veteran comedy speaks to moder...      1   \n",
       "2     Trump’s Fight With Corker Jeopardizes His Legi...      1   \n",
       "3     Egypt's Cheiron wins tie-up with Pemex for Mex...      1   \n",
       "4           Jason Aldean opens 'SNL' with Vegas tribute      1   \n",
       "...                                                 ...    ...   \n",
       "4004                                    Trends to Watch      0   \n",
       "4005  Trump Jr. Is Soon To Give A 30-Minute Speech F...      0   \n",
       "4006        Ron Paul on Trump, Anarchism & the AltRight      0   \n",
       "4007  China to accept overseas trial data in bid to ...      1   \n",
       "4008  Vice President Mike Pence Leaves NFL Game Beca...      0   \n",
       "\n",
       "                                              Headlines  \n",
       "0            four ways bob corker skewered donald trump  \n",
       "1     linklater s war veteran comedy speaks to moder...  \n",
       "2     trump s fight with corker jeopardizes his legi...  \n",
       "3     egypt s cheiron wins tie up with pemex for mex...  \n",
       "4           jason aldean opens  snl  with vegas tribute  \n",
       "...                                                 ...  \n",
       "4004                                    trends to watch  \n",
       "4005  trump jr  is soon to give a 30 minute speech f...  \n",
       "4006        ron paul on trump  anarchism   the altright  \n",
       "4007  china to accept overseas trial data in bid to ...  \n",
       "4008  vice president mike pence leaves nfl game beca...  \n",
       "\n",
       "[4009 rows x 3 columns]"
      ]
     },
     "execution_count": 11,
     "metadata": {},
     "output_type": "execute_result"
    }
   ],
   "source": [
    "df"
   ]
  },
  {
   "cell_type": "code",
   "execution_count": 12,
   "id": "1c6d6484",
   "metadata": {},
   "outputs": [
    {
     "data": {
      "text/html": [
       "<div>\n",
       "<style scoped>\n",
       "    .dataframe tbody tr th:only-of-type {\n",
       "        vertical-align: middle;\n",
       "    }\n",
       "\n",
       "    .dataframe tbody tr th {\n",
       "        vertical-align: top;\n",
       "    }\n",
       "\n",
       "    .dataframe thead th {\n",
       "        text-align: right;\n",
       "    }\n",
       "</style>\n",
       "<table border=\"1\" class=\"dataframe\">\n",
       "  <thead>\n",
       "    <tr style=\"text-align: right;\">\n",
       "      <th></th>\n",
       "      <th>Label</th>\n",
       "      <th>Headlines</th>\n",
       "    </tr>\n",
       "  </thead>\n",
       "  <tbody>\n",
       "    <tr>\n",
       "      <th>0</th>\n",
       "      <td>1</td>\n",
       "      <td>four ways bob corker skewered donald trump</td>\n",
       "    </tr>\n",
       "    <tr>\n",
       "      <th>1</th>\n",
       "      <td>1</td>\n",
       "      <td>linklater s war veteran comedy speaks to moder...</td>\n",
       "    </tr>\n",
       "    <tr>\n",
       "      <th>2</th>\n",
       "      <td>1</td>\n",
       "      <td>trump s fight with corker jeopardizes his legi...</td>\n",
       "    </tr>\n",
       "    <tr>\n",
       "      <th>3</th>\n",
       "      <td>1</td>\n",
       "      <td>egypt s cheiron wins tie up with pemex for mex...</td>\n",
       "    </tr>\n",
       "    <tr>\n",
       "      <th>4</th>\n",
       "      <td>1</td>\n",
       "      <td>jason aldean opens  snl  with vegas tribute</td>\n",
       "    </tr>\n",
       "    <tr>\n",
       "      <th>...</th>\n",
       "      <td>...</td>\n",
       "      <td>...</td>\n",
       "    </tr>\n",
       "    <tr>\n",
       "      <th>4004</th>\n",
       "      <td>0</td>\n",
       "      <td>trends to watch</td>\n",
       "    </tr>\n",
       "    <tr>\n",
       "      <th>4005</th>\n",
       "      <td>0</td>\n",
       "      <td>trump jr  is soon to give a 30 minute speech f...</td>\n",
       "    </tr>\n",
       "    <tr>\n",
       "      <th>4006</th>\n",
       "      <td>0</td>\n",
       "      <td>ron paul on trump  anarchism   the altright</td>\n",
       "    </tr>\n",
       "    <tr>\n",
       "      <th>4007</th>\n",
       "      <td>1</td>\n",
       "      <td>china to accept overseas trial data in bid to ...</td>\n",
       "    </tr>\n",
       "    <tr>\n",
       "      <th>4008</th>\n",
       "      <td>0</td>\n",
       "      <td>vice president mike pence leaves nfl game beca...</td>\n",
       "    </tr>\n",
       "  </tbody>\n",
       "</table>\n",
       "<p>4009 rows × 2 columns</p>\n",
       "</div>"
      ],
      "text/plain": [
       "      Label                                          Headlines\n",
       "0         1         four ways bob corker skewered donald trump\n",
       "1         1  linklater s war veteran comedy speaks to moder...\n",
       "2         1  trump s fight with corker jeopardizes his legi...\n",
       "3         1  egypt s cheiron wins tie up with pemex for mex...\n",
       "4         1        jason aldean opens  snl  with vegas tribute\n",
       "...     ...                                                ...\n",
       "4004      0                                    trends to watch\n",
       "4005      0  trump jr  is soon to give a 30 minute speech f...\n",
       "4006      0        ron paul on trump  anarchism   the altright\n",
       "4007      1  china to accept overseas trial data in bid to ...\n",
       "4008      0  vice president mike pence leaves nfl game beca...\n",
       "\n",
       "[4009 rows x 2 columns]"
      ]
     },
     "execution_count": 12,
     "metadata": {},
     "output_type": "execute_result"
    }
   ],
   "source": [
    "df.drop(['Headline'],axis=1)"
   ]
  },
  {
   "cell_type": "markdown",
   "id": "c667e781",
   "metadata": {},
   "source": [
    "# Define x and y"
   ]
  },
  {
   "cell_type": "code",
   "execution_count": 13,
   "id": "330fa254",
   "metadata": {},
   "outputs": [],
   "source": [
    "x=df['Headlines']\n",
    "y=df['Label']"
   ]
  },
  {
   "cell_type": "code",
   "execution_count": 14,
   "id": "543017db",
   "metadata": {},
   "outputs": [
    {
     "data": {
      "text/plain": [
       "0              four ways bob corker skewered donald trump\n",
       "1       linklater s war veteran comedy speaks to moder...\n",
       "2       trump s fight with corker jeopardizes his legi...\n",
       "3       egypt s cheiron wins tie up with pemex for mex...\n",
       "4             jason aldean opens  snl  with vegas tribute\n",
       "                              ...                        \n",
       "4004                                      trends to watch\n",
       "4005    trump jr  is soon to give a 30 minute speech f...\n",
       "4006          ron paul on trump  anarchism   the altright\n",
       "4007    china to accept overseas trial data in bid to ...\n",
       "4008    vice president mike pence leaves nfl game beca...\n",
       "Name: Headlines, Length: 4009, dtype: object"
      ]
     },
     "execution_count": 14,
     "metadata": {},
     "output_type": "execute_result"
    }
   ],
   "source": [
    "x"
   ]
  },
  {
   "cell_type": "code",
   "execution_count": 15,
   "id": "4874e666",
   "metadata": {},
   "outputs": [
    {
     "data": {
      "text/plain": [
       "0       1\n",
       "1       1\n",
       "2       1\n",
       "3       1\n",
       "4       1\n",
       "       ..\n",
       "4004    0\n",
       "4005    0\n",
       "4006    0\n",
       "4007    1\n",
       "4008    0\n",
       "Name: Label, Length: 4009, dtype: int64"
      ]
     },
     "execution_count": 15,
     "metadata": {},
     "output_type": "execute_result"
    }
   ],
   "source": [
    "y"
   ]
  },
  {
   "cell_type": "markdown",
   "id": "040675d3",
   "metadata": {},
   "source": [
    "# Vectorization"
   ]
  },
  {
   "cell_type": "code",
   "execution_count": 16,
   "id": "fcad87bc",
   "metadata": {},
   "outputs": [],
   "source": [
    "tf=TfidfVectorizer()"
   ]
  },
  {
   "cell_type": "code",
   "execution_count": 17,
   "id": "f7b59ee1",
   "metadata": {},
   "outputs": [],
   "source": [
    "x1=tf.fit_transform(x).toarray()"
   ]
  },
  {
   "cell_type": "code",
   "execution_count": 18,
   "id": "288edefd",
   "metadata": {},
   "outputs": [
    {
     "data": {
      "text/plain": [
       "array([[0., 0., 0., ..., 0., 0., 0.],\n",
       "       [0., 0., 0., ..., 0., 0., 0.],\n",
       "       [0., 0., 0., ..., 0., 0., 0.],\n",
       "       ...,\n",
       "       [0., 0., 0., ..., 0., 0., 0.],\n",
       "       [0., 0., 0., ..., 0., 0., 0.],\n",
       "       [0., 0., 0., ..., 0., 0., 0.]])"
      ]
     },
     "execution_count": 18,
     "metadata": {},
     "output_type": "execute_result"
    }
   ],
   "source": [
    "x1"
   ]
  },
  {
   "cell_type": "markdown",
   "id": "9f549dad",
   "metadata": {},
   "source": [
    "# Split the Data"
   ]
  },
  {
   "cell_type": "code",
   "execution_count": 19,
   "id": "1bba1d77",
   "metadata": {},
   "outputs": [],
   "source": [
    "x_train,x_test,y_train,y_test=train_test_split(x1,y,test_size=0.2,random_state=23)"
   ]
  },
  {
   "cell_type": "markdown",
   "id": "716b35c1",
   "metadata": {},
   "source": [
    "# Keras Tuner"
   ]
  },
  {
   "cell_type": "code",
   "execution_count": 20,
   "id": "8e457474",
   "metadata": {},
   "outputs": [],
   "source": [
    "def build_model(hp):\n",
    "    nn=Sequential()\n",
    "    \n",
    "    #INPUT LAYER:-\n",
    "    u1=hp.Int('unit1',min_value=64,max_value=1024,step=64)\n",
    "    \n",
    "    #HIDDEN LAYER:-\n",
    "    u2=hp.Int('unit2',min_value=64,max_value=1024,step=64)\n",
    "    u3=hp.Int('unit3',min_value=64,max_value=1024,step=64)\n",
    "    u4=hp.Int('unit4',min_value=64,max_value=1024,step=64)\n",
    "    u5=hp.Int('unit5',min_value=64,max_value=1024,step=64)\n",
    "    u6=hp.Int('unit6',min_value=64,max_value=1024,step=64)\n",
    "    u7=hp.Int('unit7',min_value=64,max_value=1024,step=64)\n",
    "    \n",
    "    \n",
    "    \n",
    "    \n",
    "    \n",
    "    nn.add(Dense(units=u1,input_dim=x_train.shape[1],activation='relu'))\n",
    "    nn.add(Dense(units=u2,activation='relu'))\n",
    "    nn.add(Dense(units=u3,activation='relu'))\n",
    "    nn.add(Dense(units=u4,activation='relu'))\n",
    "    nn.add(Dense(units=u5,activation='relu'))\n",
    "    nn.add(Dense(units=u6,activation='relu'))\n",
    "    nn.add(Dense(units=u7,activation='relu'))\n",
    "    \n",
    "    \n",
    "    \n",
    "    \n",
    "    \n",
    "    nn.add(Dense(1,activation='sigmoid'))\n",
    "    \n",
    "    nn.compile(loss='binary_crossentropy',optimizer='adam',metrics=['accuracy'])\n",
    "    \n",
    "    return nn"
   ]
  },
  {
   "cell_type": "code",
   "execution_count": 25,
   "id": "12b9929a",
   "metadata": {},
   "outputs": [],
   "source": [
    "tuner=kt.Hyperband(build_model,\n",
    "                  objective='val_loss',\n",
    "                  max_epochs=5,\n",
    "                  directory='tuner1',\n",
    "                  project_name='tuner_demo7711')"
   ]
  },
  {
   "cell_type": "code",
   "execution_count": 26,
   "id": "edbc5d9f",
   "metadata": {},
   "outputs": [
    {
     "name": "stdout",
     "output_type": "stream",
     "text": [
      "Trial 10 Complete [00h 01m 35s]\n",
      "val_loss: 0.3934929072856903\n",
      "\n",
      "Best val_loss So Far: 0.31679093837738037\n",
      "Total elapsed time: 00h 09m 08s\n"
     ]
    }
   ],
   "source": [
    "tuner.search(x_train,y_train,epochs=20,validation_split=0.2)"
   ]
  },
  {
   "cell_type": "code",
   "execution_count": 27,
   "id": "ad36757d",
   "metadata": {},
   "outputs": [
    {
     "data": {
      "text/plain": [
       "896"
      ]
     },
     "execution_count": 27,
     "metadata": {},
     "output_type": "execute_result"
    }
   ],
   "source": [
    "tuner.get_best_hyperparameters()[0].get('unit1')"
   ]
  },
  {
   "cell_type": "code",
   "execution_count": 28,
   "id": "2421819e",
   "metadata": {},
   "outputs": [
    {
     "data": {
      "text/plain": [
       "1024"
      ]
     },
     "execution_count": 28,
     "metadata": {},
     "output_type": "execute_result"
    }
   ],
   "source": [
    "tuner.get_best_hyperparameters()[0].get('unit2')"
   ]
  },
  {
   "cell_type": "code",
   "execution_count": 29,
   "id": "68b54a63",
   "metadata": {},
   "outputs": [
    {
     "data": {
      "text/plain": [
       "256"
      ]
     },
     "execution_count": 29,
     "metadata": {},
     "output_type": "execute_result"
    }
   ],
   "source": [
    "tuner.get_best_hyperparameters()[0].get('unit3')"
   ]
  },
  {
   "cell_type": "code",
   "execution_count": 30,
   "id": "c8118455",
   "metadata": {},
   "outputs": [
    {
     "data": {
      "text/plain": [
       "192"
      ]
     },
     "execution_count": 30,
     "metadata": {},
     "output_type": "execute_result"
    }
   ],
   "source": [
    "tuner.get_best_hyperparameters()[0].get('unit4')"
   ]
  },
  {
   "cell_type": "code",
   "execution_count": 31,
   "id": "a4e3ce54",
   "metadata": {},
   "outputs": [
    {
     "data": {
      "text/plain": [
       "832"
      ]
     },
     "execution_count": 31,
     "metadata": {},
     "output_type": "execute_result"
    }
   ],
   "source": [
    "tuner.get_best_hyperparameters()[0].get('unit5')"
   ]
  },
  {
   "cell_type": "code",
   "execution_count": 32,
   "id": "96a69d7d",
   "metadata": {},
   "outputs": [
    {
     "data": {
      "text/plain": [
       "960"
      ]
     },
     "execution_count": 32,
     "metadata": {},
     "output_type": "execute_result"
    }
   ],
   "source": [
    "tuner.get_best_hyperparameters()[0].get('unit6')"
   ]
  },
  {
   "cell_type": "code",
   "execution_count": 33,
   "id": "76b858dc",
   "metadata": {},
   "outputs": [
    {
     "data": {
      "text/plain": [
       "512"
      ]
     },
     "execution_count": 33,
     "metadata": {},
     "output_type": "execute_result"
    }
   ],
   "source": [
    "tuner.get_best_hyperparameters()[0].get('unit7')"
   ]
  },
  {
   "cell_type": "markdown",
   "id": "47867235",
   "metadata": {},
   "source": [
    "# Model Building"
   ]
  },
  {
   "cell_type": "code",
   "execution_count": 34,
   "id": "18774125",
   "metadata": {},
   "outputs": [],
   "source": [
    "nn=Sequential()"
   ]
  },
  {
   "cell_type": "code",
   "execution_count": 35,
   "id": "6cdc30ee",
   "metadata": {},
   "outputs": [],
   "source": [
    "#INPUT LAYER:-\n",
    "\n",
    "nn.add(Dense(896,input_dim=x_train.shape[1],activation='relu'))\n",
    "\n",
    "\n",
    "\n",
    "\n",
    "nn.add(Dense(1024,activation='relu'))\n",
    "nn.add(Dense(256,activation='relu'))\n",
    "nn.add(Dense(192,activation='relu'))\n",
    "nn.add(Dense(832,activation='relu'))\n",
    "nn.add(Dense(960,activation='relu'))\n",
    "nn.add(Dense(512,activation='relu'))\n",
    "\n",
    "\n",
    "nn.add(Dense(1,activation='sigmoid'))"
   ]
  },
  {
   "cell_type": "markdown",
   "id": "3481cab1",
   "metadata": {},
   "source": [
    "# Compile the Model"
   ]
  },
  {
   "cell_type": "code",
   "execution_count": 36,
   "id": "6562ed94",
   "metadata": {},
   "outputs": [],
   "source": [
    "nn.compile(loss='binary_crossentropy',optimizer='adam',metrics=['accuracy'])"
   ]
  },
  {
   "cell_type": "markdown",
   "id": "32be95a2",
   "metadata": {},
   "source": [
    "# CallBacks"
   ]
  },
  {
   "cell_type": "code",
   "execution_count": 37,
   "id": "c2860797",
   "metadata": {},
   "outputs": [],
   "source": [
    "Early=EarlyStopping(monitor='val_loss',patience=5)"
   ]
  },
  {
   "cell_type": "markdown",
   "id": "8375d682",
   "metadata": {},
   "source": [
    "# Fitting the Model"
   ]
  },
  {
   "cell_type": "code",
   "execution_count": 38,
   "id": "2e18df8f",
   "metadata": {},
   "outputs": [
    {
     "name": "stdout",
     "output_type": "stream",
     "text": [
      "Epoch 1/30\n",
      "81/81 [==============================] - 20s 174ms/step - loss: 0.5513 - accuracy: 0.6947 - val_loss: 0.3538 - val_accuracy: 0.8660\n",
      "Epoch 2/30\n",
      "81/81 [==============================] - 12s 146ms/step - loss: 0.0739 - accuracy: 0.9766 - val_loss: 0.3905 - val_accuracy: 0.8536\n",
      "Epoch 3/30\n",
      "81/81 [==============================] - 12s 151ms/step - loss: 0.0021 - accuracy: 0.9992 - val_loss: 0.8440 - val_accuracy: 0.8629\n",
      "Epoch 4/30\n",
      "81/81 [==============================] - 14s 178ms/step - loss: 3.1233e-05 - accuracy: 1.0000 - val_loss: 0.9791 - val_accuracy: 0.8598\n",
      "Epoch 5/30\n",
      "81/81 [==============================] - 14s 170ms/step - loss: 9.7345e-07 - accuracy: 1.0000 - val_loss: 0.9894 - val_accuracy: 0.8598\n",
      "Epoch 6/30\n",
      "81/81 [==============================] - 13s 164ms/step - loss: 8.2509e-07 - accuracy: 1.0000 - val_loss: 0.9982 - val_accuracy: 0.8598\n"
     ]
    }
   ],
   "source": [
    "hist=nn.fit(x_train,y_train,validation_split=0.2,callbacks=[Early],epochs=30)"
   ]
  },
  {
   "cell_type": "markdown",
   "id": "5e88cd21",
   "metadata": {},
   "source": [
    "# Plot the Result"
   ]
  },
  {
   "cell_type": "code",
   "execution_count": 39,
   "id": "bfd369fc",
   "metadata": {},
   "outputs": [
    {
     "data": {
      "text/plain": [
       "[<matplotlib.lines.Line2D at 0x1a361118850>]"
      ]
     },
     "execution_count": 39,
     "metadata": {},
     "output_type": "execute_result"
    },
    {
     "data": {
      "image/png": "[encoded data removed]",
      "text/plain": [
       "<Figure size 640x480 with 1 Axes>"
      ]
     },
     "metadata": {},
     "output_type": "display_data"
    }
   ],
   "source": [
    "plt.plot(hist.history['val_loss'],c='red')\n",
    "plt.plot(hist.history['loss'],c='blue')\n",
    "plt.plot(hist.history['accuracy'],c='orange')"
   ]
  },
  {
   "cell_type": "markdown",
   "id": "db46143b",
   "metadata": {},
   "source": [
    "# Evaluation of Training Data"
   ]
  },
  {
   "cell_type": "code",
   "execution_count": 40,
   "id": "026fe9ad",
   "metadata": {},
   "outputs": [
    {
     "name": "stdout",
     "output_type": "stream",
     "text": [
      "101/101 [==============================] - 5s 22ms/step\n"
     ]
    },
    {
     "data": {
      "text/plain": [
       "array([[1.0000000e+00],\n",
       "       [1.0000000e+00],\n",
       "       [1.2807768e-08],\n",
       "       ...,\n",
       "       [1.4557021e-05],\n",
       "       [9.7120088e-01],\n",
       "       [1.0000000e+00]], dtype=float32)"
      ]
     },
     "execution_count": 40,
     "metadata": {},
     "output_type": "execute_result"
    }
   ],
   "source": [
    "y_tr=nn.predict(x_train)\n",
    "y_tr"
   ]
  },
  {
   "cell_type": "code",
   "execution_count": 41,
   "id": "819589cf",
   "metadata": {},
   "outputs": [],
   "source": [
    "y_pred_train=[]\n",
    "\n",
    "for i in y_tr:\n",
    "    if i>0.5:\n",
    "        y_pred_train.append(1)\n",
    "    else:\n",
    "        y_pred_train.append(0)"
   ]
  },
  {
   "cell_type": "code",
   "execution_count": 42,
   "id": "5ecde385",
   "metadata": {},
   "outputs": [
    {
     "name": "stdout",
     "output_type": "stream",
     "text": [
      "Accuracy: 0.9719363891487371\n",
      "**************************************************\n",
      "Classification_Report:\n",
      "               precision    recall  f1-score   support\n",
      "\n",
      "           0       0.97      0.98      0.97      1683\n",
      "           1       0.97      0.97      0.97      1524\n",
      "\n",
      "    accuracy                           0.97      3207\n",
      "   macro avg       0.97      0.97      0.97      3207\n",
      "weighted avg       0.97      0.97      0.97      3207\n",
      "\n",
      "**************************************************\n",
      "Confusion_Matrix:\n",
      " [[1645   38]\n",
      " [  52 1472]]\n",
      "**************************************************\n"
     ]
    }
   ],
   "source": [
    "acc=accuracy_score(y_pred_train,y_train)\n",
    "print('Accuracy:',acc)\n",
    "print('*'*50)\n",
    "\n",
    "clf=classification_report(y_pred_train,y_train)\n",
    "print('Classification_Report:\\n',clf)\n",
    "print('*'*50)\n",
    "\n",
    "cnf=confusion_matrix(y_pred_train,y_train)\n",
    "print('Confusion_Matrix:\\n',cnf)\n",
    "print('*'*50)"
   ]
  },
  {
   "cell_type": "markdown",
   "id": "bac916c7",
   "metadata": {},
   "source": [
    "# Evaluation of Testing Data"
   ]
  },
  {
   "cell_type": "code",
   "execution_count": 43,
   "id": "5221ef6a",
   "metadata": {},
   "outputs": [
    {
     "name": "stdout",
     "output_type": "stream",
     "text": [
      "26/26 [==============================] - 1s 22ms/step\n"
     ]
    }
   ],
   "source": [
    "y_ts=nn.predict(x_test)"
   ]
  },
  {
   "cell_type": "code",
   "execution_count": 44,
   "id": "9e4ba3a0",
   "metadata": {},
   "outputs": [],
   "source": [
    "y_pred=[]\n",
    "\n",
    "for i in y_ts:\n",
    "    if i>0.5:\n",
    "        y_pred.append(1)\n",
    "    else:\n",
    "        y_pred.append(0)"
   ]
  },
  {
   "cell_type": "code",
   "execution_count": 45,
   "id": "c869d77f",
   "metadata": {},
   "outputs": [
    {
     "name": "stdout",
     "output_type": "stream",
     "text": [
      "Accuracy: 0.8466334164588528\n",
      "**************************************************\n",
      "Classification_Report:\n",
      "               precision    recall  f1-score   support\n",
      "\n",
      "           0       0.82      0.89      0.85       407\n",
      "           1       0.88      0.80      0.84       395\n",
      "\n",
      "    accuracy                           0.85       802\n",
      "   macro avg       0.85      0.85      0.85       802\n",
      "weighted avg       0.85      0.85      0.85       802\n",
      "\n",
      "**************************************************\n",
      "Confusion_Matrix:\n",
      " [[362  45]\n",
      " [ 78 317]]\n",
      "**************************************************\n"
     ]
    }
   ],
   "source": [
    "acc1=accuracy_score(y_pred,y_test)\n",
    "print('Accuracy:',acc1)\n",
    "print('*'*50)\n",
    "\n",
    "clf1=classification_report(y_pred,y_test)\n",
    "print('Classification_Report:\\n',clf1)\n",
    "print('*'*50)\n",
    "\n",
    "cnf1=confusion_matrix(y_pred,y_test)\n",
    "print('Confusion_Matrix:\\n',cnf1)\n",
    "print('*'*50)"
   ]
  },
  {
   "cell_type": "markdown",
   "id": "8c6073e2",
   "metadata": {},
   "source": [
    "# Unseen Data"
   ]
  },
  {
   "cell_type": "code",
   "execution_count": 94,
   "id": "eabe019c",
   "metadata": {},
   "outputs": [
    {
     "name": "stdout",
     "output_type": "stream",
     "text": [
      "Enter Headline: \"Cryptocurrency Market Hits New Highs: What's Driving the Surge?\"\n",
      "1/1 [==============================] - 0s 74ms/step\n",
      "POSITIVE HEADLINE\n"
     ]
    }
   ],
   "source": [
    "text = input('Enter Headline: ')\n",
    "\n",
    "\n",
    "\n",
    "\n",
    "def preprocess_text(text):\n",
    "    text_lower = text.lower()                                                          \n",
    "    text_clean = re.sub('[^A-Za-z0-9]', ' ', text_lower)                               \n",
    "    return text_clean\n",
    "\n",
    "\n",
    "\n",
    "processed_text = preprocess_text(text)                         \n",
    "\n",
    "\n",
    "vectorizer=tf.transform([processed_text]).toarray()                                   \n",
    "\n",
    "\n",
    "predictions = nn.predict(vectorizer)[0]\n",
    "\n",
    "\n",
    "\n",
    "if predictions == 1:\n",
    "    print('POSITIVE HEADLINE')\n",
    "else:\n",
    "    print('NEGATIVE HEADLINE')"
   ]
  }
 ],
 "metadata": {
  "kernelspec": {
   "display_name": "Python 3 (ipykernel)",
   "language": "python",
   "name": "python3"
  },
  "language_info": {
   "codemirror_mode": {
    "name": "ipython",
    "version": 3
   },
   "file_extension": ".py",
   "mimetype": "text/x-python",
   "name": "python",
   "nbconvert_exporter": "python",
   "pygments_lexer": "ipython3",
   "version": "3.10.9"
  }
 },
 "nbformat": 4,
 "nbformat_minor": 5
}
